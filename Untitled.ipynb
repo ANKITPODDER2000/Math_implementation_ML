{
 "cells": [
  {
   "cell_type": "code",
   "execution_count": 1,
   "metadata": {},
   "outputs": [],
   "source": [
    "import pandas as pd\n",
    "import numpy as np\n",
    "import matplotlib.pyplot as plt\n",
    "import seaborn as sns\n",
    "%matplotlib inline"
   ]
  },
  {
   "cell_type": "code",
   "execution_count": 2,
   "metadata": {},
   "outputs": [
    {
     "data": {
      "text/html": [
       "<div>\n",
       "<style scoped>\n",
       "    .dataframe tbody tr th:only-of-type {\n",
       "        vertical-align: middle;\n",
       "    }\n",
       "\n",
       "    .dataframe tbody tr th {\n",
       "        vertical-align: top;\n",
       "    }\n",
       "\n",
       "    .dataframe thead th {\n",
       "        text-align: right;\n",
       "    }\n",
       "</style>\n",
       "<table border=\"1\" class=\"dataframe\">\n",
       "  <thead>\n",
       "    <tr style=\"text-align: right;\">\n",
       "      <th></th>\n",
       "      <th>Sq. Ft</th>\n",
       "      <th>Price</th>\n",
       "    </tr>\n",
       "  </thead>\n",
       "  <tbody>\n",
       "    <tr>\n",
       "      <th>0</th>\n",
       "      <td>6.1101</td>\n",
       "      <td>17.5920</td>\n",
       "    </tr>\n",
       "    <tr>\n",
       "      <th>1</th>\n",
       "      <td>5.5277</td>\n",
       "      <td>9.1302</td>\n",
       "    </tr>\n",
       "    <tr>\n",
       "      <th>2</th>\n",
       "      <td>8.5186</td>\n",
       "      <td>13.6620</td>\n",
       "    </tr>\n",
       "    <tr>\n",
       "      <th>3</th>\n",
       "      <td>7.0032</td>\n",
       "      <td>11.8540</td>\n",
       "    </tr>\n",
       "    <tr>\n",
       "      <th>4</th>\n",
       "      <td>5.8598</td>\n",
       "      <td>6.8233</td>\n",
       "    </tr>\n",
       "  </tbody>\n",
       "</table>\n",
       "</div>"
      ],
      "text/plain": [
       "   Sq. Ft    Price\n",
       "0  6.1101  17.5920\n",
       "1  5.5277   9.1302\n",
       "2  8.5186  13.6620\n",
       "3  7.0032  11.8540\n",
       "4  5.8598   6.8233"
      ]
     },
     "execution_count": 2,
     "metadata": {},
     "output_type": "execute_result"
    }
   ],
   "source": [
    "data = pd.read_csv(\"./Data/ex1data1.csv\")\n",
    "data.head()"
   ]
  },
  {
   "cell_type": "code",
   "execution_count": 3,
   "metadata": {},
   "outputs": [
    {
     "data": {
      "text/plain": [
       "<matplotlib.collections.PathCollection at 0x2762da4fb70>"
      ]
     },
     "execution_count": 3,
     "metadata": {},
     "output_type": "execute_result"
    },
    {
     "data": {
      "image/png": "[encoded data removed]",
      "text/plain": [
       "<Figure size 432x288 with 1 Axes>"
      ]
     },
     "metadata": {
      "needs_background": "light"
     },
     "output_type": "display_data"
    }
   ],
   "source": [
    "plt.scatter(data['Sq. Ft'],data['Price'])"
   ]
  },
  {
   "cell_type": "code",
   "execution_count": 4,
   "metadata": {},
   "outputs": [],
   "source": [
    "from sklearn.model_selection import train_test_split"
   ]
  },
  {
   "cell_type": "code",
   "execution_count": 5,
   "metadata": {},
   "outputs": [],
   "source": [
    "X_train, X_test, y_train, y_test = train_test_split(data['Sq. Ft'], data['Price'], test_size=0.2, random_state=101)"
   ]
  },
  {
   "cell_type": "code",
   "execution_count": 6,
   "metadata": {},
   "outputs": [],
   "source": [
    "X_train = X_train.values\n",
    "X_test = X_test.values\n",
    "y_train = y_train.values\n",
    "y_test = y_test.values"
   ]
  },
  {
   "cell_type": "code",
   "execution_count": 7,
   "metadata": {},
   "outputs": [],
   "source": [
    "X_train = X_train.reshape(X_train.shape[0],1)\n",
    "X_test = X_test.reshape(X_test.shape[0],1)\n",
    "\n",
    "y_train = y_train.reshape(y_train.shape[0],1)\n",
    "y_test = y_test.reshape(y_test.shape[0],1)"
   ]
  },
  {
   "cell_type": "code",
   "execution_count": 8,
   "metadata": {},
   "outputs": [
    {
     "name": "stdout",
     "output_type": "stream",
     "text": [
      "Train Details :\n",
      "******************************\n",
      "\n",
      "Train Data :\n",
      "==================================\n",
      "Shape of X_train : (77, 1)\n",
      "Shape of y_train : (77, 1)\n",
      "Test Data :\n",
      "==================================\n",
      "Shape of X_test : (20, 1)\n",
      "Shape of y_test : (20, 1)\n"
     ]
    }
   ],
   "source": [
    "print(\"Train Details :\\n******************************\\n\")\n",
    "\n",
    "print(\"Train Data :\\n==================================\")\n",
    "print(\"Shape of X_train : %s\"%str(X_train.shape))\n",
    "print(\"Shape of y_train : %s\"%str(y_train.shape))\n",
    "\n",
    "print(\"Test Data :\\n==================================\")\n",
    "print(\"Shape of X_test : %s\"%str(X_test.shape))\n",
    "print(\"Shape of y_test : %s\"%str(y_test.shape))"
   ]
  },
  {
   "cell_type": "markdown",
   "metadata": {},
   "source": [
    "<h1>Model 1 : LModel</h1>"
   ]
  },
  {
   "cell_type": "code",
   "execution_count": 9,
   "metadata": {},
   "outputs": [],
   "source": [
    "def hypothesis(X,theta):\n",
    "    return np.dot(X,theta)"
   ]
  },
  {
   "cell_type": "code",
   "execution_count": 126,
   "metadata": {},
   "outputs": [],
   "source": [
    "def costfunction(X,y,theta):\n",
    "    m = X.shape[0]\n",
    "    cost = (1/(2*m)) * np.dot((hypothesis(X,theta) - y).T,(hypothesis(X,theta) - y))\n",
    "    return cost[0][0]"
   ]
  },
  {
   "cell_type": "code",
   "execution_count": 127,
   "metadata": {},
   "outputs": [],
   "source": [
    "def updateParameter(X,y,theta,alpha):\n",
    "    m = X.shape[0]\n",
    "    hypo = hypothesis(X,theta=theta)\n",
    "    theta = theta - (alpha / m) * np.dot((hypo-y).T , X).T\n",
    "    return theta"
   ]
  },
  {
   "cell_type": "code",
   "execution_count": 12,
   "metadata": {},
   "outputs": [],
   "source": [
    "def model1(X,y,alpha=0.0005,iteration=10000,print_details=False):\n",
    "    theta = np.zeros((X.shape[1], 1))\n",
    "    loss = []\n",
    "    if print_details:\n",
    "            print(\"Loss for train Data is on %d iteratin is : %f\"%(0,costfunction(X,y,theta)))\n",
    "    for itr in range(1,iteration+1):\n",
    "        theta = updateParameter(X,y,theta,alpha)\n",
    "        loss.append(costfunction(X,y,theta))\n",
    "        if print_details and itr%1000==0:\n",
    "            print(\"Loss for train Data is on %d iteratin is : %f\"%(itr,costfunction(X,y,theta)))\n",
    "    return theta,loss"
   ]
  },
  {
   "cell_type": "code",
   "execution_count": 48,
   "metadata": {},
   "outputs": [],
   "source": [
    "X_train = np.insert(X_train,0,1,axis=1)\n",
    "X_test = np.insert(X_test,0,1,axis=1)"
   ]
  },
  {
   "cell_type": "code",
   "execution_count": 49,
   "metadata": {},
   "outputs": [
    {
     "name": "stdout",
     "output_type": "stream",
     "text": [
      "Train Details :\n",
      "******************************\n",
      "\n",
      "Train Data :\n",
      "==================================\n",
      "Shape of X_train : (77, 2)\n",
      "Shape of y_train : (77, 1)\n",
      "Test Data :\n",
      "==================================\n",
      "Shape of X_test : (20, 2)\n",
      "Shape of y_test : (20, 1)\n"
     ]
    }
   ],
   "source": [
    "print(\"Train Details :\\n******************************\\n\")\n",
    "\n",
    "print(\"Train Data :\\n==================================\")\n",
    "print(\"Shape of X_train : %s\"%str(X_train.shape))\n",
    "print(\"Shape of y_train : %s\"%str(y_train.shape))\n",
    "\n",
    "print(\"Test Data :\\n==================================\")\n",
    "print(\"Shape of X_test : %s\"%str(X_test.shape))\n",
    "print(\"Shape of y_test : %s\"%str(y_test.shape))"
   ]
  },
  {
   "cell_type": "code",
   "execution_count": 15,
   "metadata": {},
   "outputs": [],
   "source": [
    "theta , loss = model1(X_train,y_train,iteration=100000,alpha=0.0005)"
   ]
  },
  {
   "cell_type": "code",
   "execution_count": 16,
   "metadata": {},
   "outputs": [
    {
     "data": {
      "text/plain": [
       "array([[-3.89590399],\n",
       "       [ 1.195241  ]])"
      ]
     },
     "execution_count": 16,
     "metadata": {},
     "output_type": "execute_result"
    }
   ],
   "source": [
    "theta"
   ]
  },
  {
   "cell_type": "code",
   "execution_count": 17,
   "metadata": {},
   "outputs": [
    {
     "data": {
      "text/plain": [
       "Text(0, 0.5, 'Loss')"
      ]
     },
     "execution_count": 17,
     "metadata": {},
     "output_type": "execute_result"
    },
    {
     "data": {
      "image/png": "[encoded data removed]",
      "text/plain": [
       "<Figure size 432x288 with 1 Axes>"
      ]
     },
     "metadata": {
      "needs_background": "light"
     },
     "output_type": "display_data"
    }
   ],
   "source": [
    "plt.plot(loss)\n",
    "plt.xlabel(\"Epoch\")\n",
    "plt.ylabel(\"Loss\")"
   ]
  },
  {
   "cell_type": "code",
   "execution_count": 18,
   "metadata": {},
   "outputs": [
    {
     "data": {
      "text/plain": [
       "[<matplotlib.lines.Line2D at 0x2614e47ee48>]"
      ]
     },
     "execution_count": 18,
     "metadata": {},
     "output_type": "execute_result"
    },
    {
     "data": {
      "image/png": "[encoded data removed]",
      "text/plain": [
       "<Figure size 432x288 with 1 Axes>"
      ]
     },
     "metadata": {
      "needs_background": "light"
     },
     "output_type": "display_data"
    }
   ],
   "source": [
    "a = np.linspace(0,23).reshape(50,1)\n",
    "a = np.insert(a,0,1,axis=1)\n",
    "y = hypothesis(a,theta)\n",
    "\n",
    "plt.scatter(data['Sq. Ft'],data['Price'])\n",
    "plt.plot(np.linspace(0,23).reshape(50,1) , y)"
   ]
  },
  {
   "cell_type": "code",
   "execution_count": 19,
   "metadata": {},
   "outputs": [],
   "source": [
    "def error(X,y,theta):\n",
    "    hypo = hypothesis(X,theta)\n",
    "    return np.mean(np.abs(hypo - y))"
   ]
  },
  {
   "cell_type": "code",
   "execution_count": 20,
   "metadata": {},
   "outputs": [
    {
     "data": {
      "text/plain": [
       "2.243375745377919"
      ]
     },
     "execution_count": 20,
     "metadata": {},
     "output_type": "execute_result"
    }
   ],
   "source": [
    "error(X_train,y_train,theta)"
   ]
  },
  {
   "cell_type": "code",
   "execution_count": 21,
   "metadata": {},
   "outputs": [
    {
     "data": {
      "text/plain": [
       "array([[4.9981],\n",
       "       [4.3483],\n",
       "       [3.9624],\n",
       "       [5.3048],\n",
       "       [6.7526]])"
      ]
     },
     "execution_count": 21,
     "metadata": {},
     "output_type": "execute_result"
    }
   ],
   "source": [
    "y_test[:5]"
   ]
  },
  {
   "cell_type": "code",
   "execution_count": 22,
   "metadata": {},
   "outputs": [
    {
     "data": {
      "text/plain": [
       "array([[5.1916329 ],\n",
       "       [5.04019586],\n",
       "       [7.23202882],\n",
       "       [3.71228311],\n",
       "       [8.3840021 ]])"
      ]
     },
     "execution_count": 22,
     "metadata": {},
     "output_type": "execute_result"
    }
   ],
   "source": [
    "hypothesis(X_test[:5],theta)"
   ]
  },
  {
   "cell_type": "code",
   "execution_count": 23,
   "metadata": {},
   "outputs": [],
   "source": [
    "from sklearn.linear_model import LinearRegression"
   ]
  },
  {
   "cell_type": "code",
   "execution_count": 24,
   "metadata": {},
   "outputs": [],
   "source": [
    "modelLR = LinearRegression()"
   ]
  },
  {
   "cell_type": "code",
   "execution_count": 25,
   "metadata": {},
   "outputs": [
    {
     "data": {
      "text/plain": [
       "LinearRegression(copy_X=True, fit_intercept=True, n_jobs=None,\n",
       "         normalize=False)"
      ]
     },
     "execution_count": 25,
     "metadata": {},
     "output_type": "execute_result"
    }
   ],
   "source": [
    "modelLR.fit(X_train[:,1].reshape(X_train.shape[0],1),y_train)"
   ]
  },
  {
   "cell_type": "code",
   "execution_count": 26,
   "metadata": {},
   "outputs": [
    {
     "data": {
      "text/plain": [
       "array([-3.89628476])"
      ]
     },
     "execution_count": 26,
     "metadata": {},
     "output_type": "execute_result"
    }
   ],
   "source": [
    "modelLR.intercept_"
   ]
  },
  {
   "cell_type": "code",
   "execution_count": 27,
   "metadata": {},
   "outputs": [
    {
     "data": {
      "text/plain": [
       "1.1952785557823606"
      ]
     },
     "execution_count": 27,
     "metadata": {},
     "output_type": "execute_result"
    }
   ],
   "source": [
    "modelLR.coef_[0,0]"
   ]
  },
  {
   "cell_type": "code",
   "execution_count": 28,
   "metadata": {},
   "outputs": [
    {
     "data": {
      "text/plain": [
       "[<matplotlib.lines.Line2D at 0x2614ec984e0>]"
      ]
     },
     "execution_count": 28,
     "metadata": {},
     "output_type": "execute_result"
    },
    {
     "data": {
      "image/png": "[encoded data removed]",
      "text/plain": [
       "<Figure size 432x288 with 1 Axes>"
      ]
     },
     "metadata": {
      "needs_background": "light"
     },
     "output_type": "display_data"
    }
   ],
   "source": [
    "plt.scatter(data['Sq. Ft'],data['Price'])\n",
    "plt.plot(np.linspace(0,23),(np.linspace(0,23)*modelLR.coef_[0,0]) + modelLR.intercept_[0])"
   ]
  },
  {
   "cell_type": "code",
   "execution_count": 29,
   "metadata": {},
   "outputs": [
    {
     "data": {
      "text/plain": [
       "Text(0, 0.5, 'Price')"
      ]
     },
     "execution_count": 29,
     "metadata": {},
     "output_type": "execute_result"
    },
    {
     "data": {
      "image/png": "[encoded data removed]",
      "text/plain": [
       "<Figure size 1296x432 with 2 Axes>"
      ]
     },
     "metadata": {
      "needs_background": "light"
     },
     "output_type": "display_data"
    }
   ],
   "source": [
    "fig , (ax1,ax2) = plt.subplots(1,2,figsize=(18,6))\n",
    "a = np.linspace(0,23).reshape(50,1)\n",
    "a = np.insert(a,0,1,axis=1)\n",
    "y = hypothesis(a,theta)\n",
    "\n",
    "ax1.scatter(data['Sq. Ft'],data['Price'])\n",
    "ax1.plot(np.linspace(0,23).reshape(50,1) , y)\n",
    "ax1.set_title(\"Math Model\")\n",
    "ax1.set_xlabel(\"Sq. ft.\")\n",
    "ax1.set_ylabel(\"Price\")\n",
    "\n",
    "ax2.scatter(data['Sq. Ft'],data['Price'],color=\"red\")\n",
    "ax2.plot(np.linspace(0,23),(np.linspace(0,23)*modelLR.coef_[0,0]) + modelLR.intercept_[0],color=\"red\")\n",
    "ax2.set_title(\"Linear Regression Model sklearn\")\n",
    "ax2.set_xlabel(\"Sq. ft.\")\n",
    "ax2.set_ylabel(\"Price\")"
   ]
  },
  {
   "cell_type": "code",
   "execution_count": 30,
   "metadata": {},
   "outputs": [
    {
     "data": {
      "text/plain": [
       "0.7103039544174121"
      ]
     },
     "execution_count": 30,
     "metadata": {},
     "output_type": "execute_result"
    }
   ],
   "source": [
    "modelLR.score(X_train[:,1].reshape(X_train.shape[0],1),y_train)"
   ]
  },
  {
   "cell_type": "code",
   "execution_count": 31,
   "metadata": {},
   "outputs": [
    {
     "data": {
      "text/plain": [
       "0.6550860246011561"
      ]
     },
     "execution_count": 31,
     "metadata": {},
     "output_type": "execute_result"
    }
   ],
   "source": [
    "modelLR.score(X_test[:,1].reshape(X_test.shape[0],1),y_test)"
   ]
  },
  {
   "cell_type": "markdown",
   "metadata": {},
   "source": [
    "<h1>Non Linear Model</h1>"
   ]
  },
  {
   "cell_type": "code",
   "execution_count": 38,
   "metadata": {},
   "outputs": [],
   "source": [
    "def initialise_parameter(X):\n",
    "    return np.zeros((X.shape[1],1))"
   ]
  },
  {
   "cell_type": "code",
   "execution_count": 50,
   "metadata": {},
   "outputs": [],
   "source": [
    "X_train = X_train[:,1]\n",
    "X_train = X_train.reshape(X_train.shape[0],1)\n",
    "X_test  = X_test[:,1]\n",
    "X_test  = X_test.reshape(X_test.shape[0],1)"
   ]
  },
  {
   "cell_type": "code",
   "execution_count": 51,
   "metadata": {},
   "outputs": [
    {
     "name": "stdout",
     "output_type": "stream",
     "text": [
      "Data Details :\n",
      "******************************\n",
      "\n",
      "Train Data :\n",
      "==================================\n",
      "Shape of X_train : (77, 1)\n",
      "Shape of y_train : (77, 1)\n",
      "\n",
      "Test Data :\n",
      "==================================\n",
      "Shape of X_test : (20, 1)\n",
      "Shape of y_test : (20, 1)\n"
     ]
    }
   ],
   "source": [
    "print(\"Data Details :\\n******************************\\n\")\n",
    "\n",
    "print(\"Train Data :\\n==================================\")\n",
    "print(\"Shape of X_train : %s\"%str(X_train.shape))\n",
    "print(\"Shape of y_train : %s\"%str(y_train.shape))\n",
    "\n",
    "print(\"\\nTest Data :\\n==================================\")\n",
    "print(\"Shape of X_test : %s\"%str(X_test.shape))\n",
    "print(\"Shape of y_test : %s\"%str(y_test.shape))"
   ]
  },
  {
   "cell_type": "code",
   "execution_count": 39,
   "metadata": {},
   "outputs": [
    {
     "data": {
      "text/plain": [
       "array([[0.],\n",
       "       [0.]])"
      ]
     },
     "execution_count": 39,
     "metadata": {},
     "output_type": "execute_result"
    }
   ],
   "source": [
    "initialise_parameter(X_train)"
   ]
  },
  {
   "cell_type": "code",
   "execution_count": 118,
   "metadata": {},
   "outputs": [
    {
     "data": {
      "text/plain": [
       "'\\ndef create_input_data(X,deg):\\n    X_train = np.insert(X,0,1,axis=1)\\n    for i in range(2,deg+1):\\n        X_train = np.insert(X_train,X_train.shape[1],X[:1]**i,axis=1)\\n    return X_train\\n'"
      ]
     },
     "execution_count": 118,
     "metadata": {},
     "output_type": "execute_result"
    }
   ],
   "source": [
    "def create_input_data(X,deg):\n",
    "    X_train = np.insert(X,0,1,axis=1)\n",
    "    for i in range(2,deg+1):\n",
    "        X_train = np.insert(X_train,X_train.shape[1],X[:1]**i,axis=1)\n",
    "    return X_train"
   ]
  },
  {
   "cell_type": "code",
   "execution_count": 117,
   "metadata": {},
   "outputs": [
    {
     "data": {
      "text/plain": [
       "'\\ndef costfunction(X,y,theta,lamda):\\n    m = X.shape[0]\\n    cost = (1/(2*m)) * np.dot((hypothesis(X,theta) - y).T,(hypothesis(X,theta) - y)) + (lamda / (2 * m)) * np.dot(theta.T,theta)\\n    return cost[0][0]\\n    '"
      ]
     },
     "execution_count": 117,
     "metadata": {},
     "output_type": "execute_result"
    }
   ],
   "source": [
    "\"\"\"\n",
    "def costfunction(X,y,theta,lamda):\n",
    "    m = X.shape[0]\n",
    "    cost = (1/(2*m)) * np.dot((hypothesis(X,theta) - y).T,(hypothesis(X,theta) - y)) + (lamda / (2 * m)) * np.dot(theta.T,theta)\n",
    "    return cost[0][0]\n",
    "    \"\"\""
   ]
  },
  {
   "cell_type": "code",
   "execution_count": 121,
   "metadata": {},
   "outputs": [
    {
     "data": {
      "text/plain": [
       "'\\ndef updateParameter(X,y,theta,alpha,lamda):\\n    m = X.shape[0]\\n    hypo = hypothesis(X,theta=theta)\\n    theta = theta - (alpha / m) * np.dot((hypo-y).T , X).T + (lamda / m) * theta\\n    return theta\\n'"
      ]
     },
     "execution_count": 121,
     "metadata": {},
     "output_type": "execute_result"
    }
   ],
   "source": [
    "\"\"\"\n",
    "def updateParameter(X,y,theta,alpha,lamda):\n",
    "    m = X.shape[0]\n",
    "    hypo = hypothesis(X,theta=theta)\n",
    "    theta = theta - (alpha / m) * np.dot((hypo-y).T , X).T + (lamda / m) * theta\n",
    "    return theta\n",
    "\"\"\""
   ]
  },
  {
   "cell_type": "code",
   "execution_count": 128,
   "metadata": {},
   "outputs": [],
   "source": [
    "def modelNL(X,y,max_deg = 5,alpha=0.0005,lamda=0.0005,iteration=10000,print_details=False):\n",
    "    \n",
    "    Theta = {}\n",
    "    loss = {}\n",
    "    \n",
    "    for deg in range(1,1+max_deg):\n",
    "        X_train = create_input_data(X,deg)\n",
    "        theta = initialise_parameter(X_train)\n",
    "        if print_details and it%100==0:\n",
    "                print(\"Loss in %dth iteration is : %.4f\"%(0,costfunction(X_train,y,theta)))\n",
    "        for it in range(iteration):\n",
    "            theta = updateParameter(X_train,y,theta,alpha)\n",
    "            if print_details and it%100==0:\n",
    "                print(\"Loss in %dth iteration is : %.4f\"%(it,costfunction(X_train,y,theta)))\n",
    "        print(theta)\n",
    "        Theta[str(deg)] = theta\n",
    "        loss[str(deg)]  = costfunction(X_train,y,theta)\n",
    "    return Theta,loss"
   ]
  },
  {
   "cell_type": "code",
   "execution_count": 129,
   "metadata": {},
   "outputs": [
    {
     "name": "stdout",
     "output_type": "stream",
     "text": [
      "[[-3.89590399]\n",
      " [ 1.195241  ]]\n"
     ]
    },
    {
     "name": "stderr",
     "output_type": "stream",
     "text": [
      "C:\\Users\\ANKIT PODDER\\Anaconda3\\lib\\site-packages\\ipykernel_launcher.py:4: RuntimeWarning: invalid value encountered in subtract\n",
      "  after removing the cwd from sys.path.\n"
     ]
    },
    {
     "name": "stdout",
     "output_type": "stream",
     "text": [
      "[[nan]\n",
      " [nan]\n",
      " [nan]]\n",
      "[[nan]\n",
      " [nan]\n",
      " [nan]\n",
      " [nan]]\n"
     ]
    }
   ],
   "source": [
    "theta,loss = modelNL(X_train,y_train,max_deg=3,iteration=100000)"
   ]
  },
  {
   "cell_type": "code",
   "execution_count": 130,
   "metadata": {},
   "outputs": [
    {
     "data": {
      "text/plain": [
       "{'1': 4.571934325340278, '2': nan, '3': nan}"
      ]
     },
     "execution_count": 130,
     "metadata": {},
     "output_type": "execute_result"
    }
   ],
   "source": [
    "loss"
   ]
  },
  {
   "cell_type": "code",
   "execution_count": 131,
   "metadata": {},
   "outputs": [],
   "source": [
    "from sklearn.preprocessing import PolynomialFeatures\n",
    "poly = PolynomialFeatures(degree=3)"
   ]
  },
  {
   "cell_type": "code",
   "execution_count": 132,
   "metadata": {},
   "outputs": [],
   "source": [
    "X_poly = poly.fit_transform(X_train)"
   ]
  },
  {
   "cell_type": "code",
   "execution_count": 133,
   "metadata": {},
   "outputs": [
    {
     "data": {
      "text/plain": [
       "LinearRegression(copy_X=True, fit_intercept=True, n_jobs=None,\n",
       "         normalize=False)"
      ]
     },
     "execution_count": 133,
     "metadata": {},
     "output_type": "execute_result"
    }
   ],
   "source": [
    "modelNLSKL = LinearRegression()\n",
    "modelNLSKL.fit(X_poly,y_train.reshape(y_train.shape[0]))"
   ]
  },
  {
   "cell_type": "code",
   "execution_count": 134,
   "metadata": {},
   "outputs": [
    {
     "data": {
      "text/plain": [
       "-6.7407026623870685"
      ]
     },
     "execution_count": 134,
     "metadata": {},
     "output_type": "execute_result"
    }
   ],
   "source": [
    "modelNLSKL.intercept_"
   ]
  },
  {
   "cell_type": "code",
   "execution_count": 135,
   "metadata": {},
   "outputs": [
    {
     "data": {
      "text/plain": [
       "array([ 0.00000000e+00,  2.02915943e+00, -7.13735284e-02,  1.81020302e-03])"
      ]
     },
     "execution_count": 135,
     "metadata": {},
     "output_type": "execute_result"
    }
   ],
   "source": [
    "modelNLSKL.coef_"
   ]
  },
  {
   "cell_type": "code",
   "execution_count": 136,
   "metadata": {},
   "outputs": [
    {
     "data": {
      "text/plain": [
       "0.7110716281586227"
      ]
     },
     "execution_count": 136,
     "metadata": {},
     "output_type": "execute_result"
    }
   ],
   "source": [
    "modelNLSKL.score(X_poly,y_train.reshape(y_train.shape[0]))"
   ]
  },
  {
   "cell_type": "code",
   "execution_count": 143,
   "metadata": {},
   "outputs": [
    {
     "name": "stdout",
     "output_type": "stream",
     "text": [
      "class LinearRegression(LinearModel, RegressorMixin):\n",
      "    \"\"\"\n",
      "    Ordinary least squares Linear Regression.\n",
      "\n",
      "    Parameters\n",
      "    ----------\n",
      "    fit_intercept : boolean, optional, default True\n",
      "        whether to calculate the intercept for this model. If set\n",
      "        to False, no intercept will be used in calculations\n",
      "        (e.g. data is expected to be already centered).\n",
      "\n",
      "    normalize : boolean, optional, default False\n",
      "        This parameter is ignored when ``fit_intercept`` is set to False.\n",
      "        If True, the regressors X will be normalized before regression by\n",
      "        subtracting the mean and dividing by the l2-norm.\n",
      "        If you wish to standardize, please use\n",
      "        :class:`sklearn.preprocessing.StandardScaler` before calling ``fit`` on\n",
      "        an estimator with ``normalize=False``.\n",
      "\n",
      "    copy_X : boolean, optional, default True\n",
      "        If True, X will be copied; else, it may be overwritten.\n",
      "\n",
      "    n_jobs : int or None, optional (default=None)\n",
      "        The number of jobs to use for the computation. This will only provide\n",
      "        speedup for n_targets > 1 and sufficient large problems.\n",
      "        ``None`` means 1 unless in a :obj:`joblib.parallel_backend` context.\n",
      "        ``-1`` means using all processors. See :term:`Glossary <n_jobs>`\n",
      "        for more details.\n",
      "\n",
      "    Attributes\n",
      "    ----------\n",
      "    coef_ : array, shape (n_features, ) or (n_targets, n_features)\n",
      "        Estimated coefficients for the linear regression problem.\n",
      "        If multiple targets are passed during the fit (y 2D), this\n",
      "        is a 2D array of shape (n_targets, n_features), while if only\n",
      "        one target is passed, this is a 1D array of length n_features.\n",
      "\n",
      "    intercept_ : array\n",
      "        Independent term in the linear model.\n",
      "\n",
      "    Examples\n",
      "    --------\n",
      "    >>> import numpy as np\n",
      "    >>> from sklearn.linear_model import LinearRegression\n",
      "    >>> X = np.array([[1, 1], [1, 2], [2, 2], [2, 3]])\n",
      "    >>> # y = 1 * x_0 + 2 * x_1 + 3\n",
      "    >>> y = np.dot(X, np.array([1, 2])) + 3\n",
      "    >>> reg = LinearRegression().fit(X, y)\n",
      "    >>> reg.score(X, y)\n",
      "    1.0\n",
      "    >>> reg.coef_\n",
      "    array([1., 2.])\n",
      "    >>> reg.intercept_ # doctest: +ELLIPSIS\n",
      "    3.0000...\n",
      "    >>> reg.predict(np.array([[3, 5]]))\n",
      "    array([16.])\n",
      "\n",
      "    Notes\n",
      "    -----\n",
      "    From the implementation point of view, this is just plain Ordinary\n",
      "    Least Squares (scipy.linalg.lstsq) wrapped as a predictor object.\n",
      "\n",
      "    \"\"\"\n",
      "\n",
      "    def __init__(self, fit_intercept=True, normalize=False, copy_X=True,\n",
      "                 n_jobs=None):\n",
      "        self.fit_intercept = fit_intercept\n",
      "        self.normalize = normalize\n",
      "        self.copy_X = copy_X\n",
      "        self.n_jobs = n_jobs\n",
      "\n",
      "    def fit(self, X, y, sample_weight=None):\n",
      "        \"\"\"\n",
      "        Fit linear model.\n",
      "\n",
      "        Parameters\n",
      "        ----------\n",
      "        X : array-like or sparse matrix, shape (n_samples, n_features)\n",
      "            Training data\n",
      "\n",
      "        y : array_like, shape (n_samples, n_targets)\n",
      "            Target values. Will be cast to X's dtype if necessary\n",
      "\n",
      "        sample_weight : numpy array of shape [n_samples]\n",
      "            Individual weights for each sample\n",
      "\n",
      "            .. versionadded:: 0.17\n",
      "               parameter *sample_weight* support to LinearRegression.\n",
      "\n",
      "        Returns\n",
      "        -------\n",
      "        self : returns an instance of self.\n",
      "        \"\"\"\n",
      "\n",
      "        n_jobs_ = self.n_jobs\n",
      "        X, y = check_X_y(X, y, accept_sparse=['csr', 'csc', 'coo'],\n",
      "                         y_numeric=True, multi_output=True)\n",
      "\n",
      "        if sample_weight is not None and np.atleast_1d(sample_weight).ndim > 1:\n",
      "            raise ValueError(\"Sample weights must be 1D array or scalar\")\n",
      "\n",
      "        X, y, X_offset, y_offset, X_scale = self._preprocess_data(\n",
      "            X, y, fit_intercept=self.fit_intercept, normalize=self.normalize,\n",
      "            copy=self.copy_X, sample_weight=sample_weight)\n",
      "\n",
      "        if sample_weight is not None:\n",
      "            # Sample weight can be implemented via a simple rescaling.\n",
      "            X, y = _rescale_data(X, y, sample_weight)\n",
      "\n",
      "        if sp.issparse(X):\n",
      "            if y.ndim < 2:\n",
      "                out = sparse_lsqr(X, y)\n",
      "                self.coef_ = out[0]\n",
      "                self._residues = out[3]\n",
      "            else:\n",
      "                # sparse_lstsq cannot handle y with shape (M, K)\n",
      "                outs = Parallel(n_jobs=n_jobs_)(\n",
      "                    delayed(sparse_lsqr)(X, y[:, j].ravel())\n",
      "                    for j in range(y.shape[1]))\n",
      "                self.coef_ = np.vstack([out[0] for out in outs])\n",
      "                self._residues = np.vstack([out[3] for out in outs])\n",
      "        else:\n",
      "            self.coef_, self._residues, self.rank_, self.singular_ = \\\n",
      "                linalg.lstsq(X, y)\n",
      "            self.coef_ = self.coef_.T\n",
      "\n",
      "        if y.ndim == 1:\n",
      "            self.coef_ = np.ravel(self.coef_)\n",
      "        self._set_intercept(X_offset, y_offset, X_scale)\n",
      "        return self\n",
      "\n"
     ]
    }
   ],
   "source": [
    "from inspect import getsource\n",
    "print(getsource(LinearRegression))"
   ]
  },
  {
   "cell_type": "code",
   "execution_count": 145,
   "metadata": {},
   "outputs": [],
   "source": [
    "from sklearn import linear_model"
   ]
  },
  {
   "cell_type": "code",
   "execution_count": 147,
   "metadata": {},
   "outputs": [
    {
     "name": "stdout",
     "output_type": "stream",
     "text": [
      "\"\"\"\n",
      "The :mod:`sklearn.linear_model` module implements generalized linear models. It\n",
      "includes Ridge regression, Bayesian Regression, Lasso and Elastic Net\n",
      "estimators computed with Least Angle Regression and coordinate descent. It also\n",
      "implements Stochastic Gradient Descent related algorithms.\n",
      "\"\"\"\n",
      "\n",
      "# See http://scikit-learn.sourceforge.net/modules/sgd.html and\n",
      "# http://scikit-learn.sourceforge.net/modules/linear_model.html for\n",
      "# complete documentation.\n",
      "\n",
      "from .base import LinearRegression\n",
      "\n",
      "from .bayes import BayesianRidge, ARDRegression\n",
      "from .least_angle import (Lars, LassoLars, lars_path, LarsCV, LassoLarsCV,\n",
      "                          LassoLarsIC)\n",
      "from .coordinate_descent import (Lasso, ElasticNet, LassoCV, ElasticNetCV,\n",
      "                                 lasso_path, enet_path, MultiTaskLasso,\n",
      "                                 MultiTaskElasticNet, MultiTaskElasticNetCV,\n",
      "                                 MultiTaskLassoCV)\n",
      "from .huber import HuberRegressor\n",
      "from .sgd_fast import Hinge, Log, ModifiedHuber, SquaredLoss, Huber\n",
      "from .stochastic_gradient import SGDClassifier, SGDRegressor\n",
      "from .ridge import (Ridge, RidgeCV, RidgeClassifier, RidgeClassifierCV,\n",
      "                    ridge_regression)\n",
      "from .logistic import (LogisticRegression, LogisticRegressionCV,\n",
      "                       logistic_regression_path)\n",
      "from .omp import (orthogonal_mp, orthogonal_mp_gram, OrthogonalMatchingPursuit,\n",
      "                  OrthogonalMatchingPursuitCV)\n",
      "from .passive_aggressive import PassiveAggressiveClassifier\n",
      "from .passive_aggressive import PassiveAggressiveRegressor\n",
      "from .perceptron import Perceptron\n",
      "\n",
      "from .randomized_l1 import (RandomizedLasso, RandomizedLogisticRegression,\n",
      "                            lasso_stability_path)\n",
      "\n",
      "from .ransac import RANSACRegressor\n",
      "from .theil_sen import TheilSenRegressor\n",
      "\n",
      "__all__ = ['ARDRegression',\n",
      "           'BayesianRidge',\n",
      "           'ElasticNet',\n",
      "           'ElasticNetCV',\n",
      "           'Hinge',\n",
      "           'Huber',\n",
      "           'HuberRegressor',\n",
      "           'Lars',\n",
      "           'LarsCV',\n",
      "           'Lasso',\n",
      "           'LassoCV',\n",
      "           'LassoLars',\n",
      "           'LassoLarsCV',\n",
      "           'LassoLarsIC',\n",
      "           'LinearRegression',\n",
      "           'Log',\n",
      "           'LogisticRegression',\n",
      "           'LogisticRegressionCV',\n",
      "           'ModifiedHuber',\n",
      "           'MultiTaskElasticNet',\n",
      "           'MultiTaskElasticNetCV',\n",
      "           'MultiTaskLasso',\n",
      "           'MultiTaskLassoCV',\n",
      "           'OrthogonalMatchingPursuit',\n",
      "           'OrthogonalMatchingPursuitCV',\n",
      "           'PassiveAggressiveClassifier',\n",
      "           'PassiveAggressiveRegressor',\n",
      "           'Perceptron',\n",
      "           'RandomizedLasso',\n",
      "           'RandomizedLogisticRegression',\n",
      "           'Ridge',\n",
      "           'RidgeCV',\n",
      "           'RidgeClassifier',\n",
      "           'RidgeClassifierCV',\n",
      "           'SGDClassifier',\n",
      "           'SGDRegressor',\n",
      "           'SquaredLoss',\n",
      "           'TheilSenRegressor',\n",
      "           'enet_path',\n",
      "           'lars_path',\n",
      "           'lasso_path',\n",
      "           'lasso_stability_path',\n",
      "           'logistic_regression_path',\n",
      "           'orthogonal_mp',\n",
      "           'orthogonal_mp_gram',\n",
      "           'ridge_regression',\n",
      "           'RANSACRegressor']\n",
      "\n"
     ]
    }
   ],
   "source": [
    "print(getsource(linear_model))"
   ]
  },
  {
   "cell_type": "code",
   "execution_count": null,
   "metadata": {},
   "outputs": [],
   "source": []
  }
 ],
 "metadata": {
  "kernelspec": {
   "display_name": "Python 3",
   "language": "python",
   "name": "python3"
  },
  "language_info": {
   "codemirror_mode": {
    "name": "ipython",
    "version": 3
   },
   "file_extension": ".py",
   "mimetype": "text/x-python",
   "name": "python",
   "nbconvert_exporter": "python",
   "pygments_lexer": "ipython3",
   "version": "3.7.3"
  }
 },
 "nbformat": 4,
 "nbformat_minor": 2
}
