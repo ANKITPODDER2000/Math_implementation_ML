{
 "cells": [
  {
   "cell_type": "code",
   "execution_count": 1,
   "metadata": {},
   "outputs": [],
   "source": [
    "import numpy as np\n",
    "import matplotlib.pyplot as plt\n",
    "import seaborn as sns\n",
    "%matplotlib inline"
   ]
  },
  {
   "cell_type": "code",
   "execution_count": 86,
   "metadata": {},
   "outputs": [],
   "source": [
    "X_train = np.array([[i,j,k,l] for i in range(1,30) for j in range(1,30) for k in range(1,30) for l in range(1,30)])\n",
    "y_train = np.dot(X_train , np.array([[1],[2],[3],[4]]))\n",
    "X_train = np.insert(X_train,0,1,axis=1)\n",
    "\n",
    "X_test = np.array([[i,i+1,i+2,i+3] for i in range(101,126)])\n",
    "y_test = np.dot(X_test , np.array([[1],[2],[3],[4]]))\n",
    "X_test = np.insert(X_test,0,1,axis=1)"
   ]
  },
  {
   "cell_type": "code",
   "execution_count": 87,
   "metadata": {},
   "outputs": [
    {
     "data": {
      "text/plain": [
       "array([[1, 1, 1, 1, 1],\n",
       "       [1, 1, 1, 1, 2],\n",
       "       [1, 1, 1, 1, 3],\n",
       "       [1, 1, 1, 1, 4],\n",
       "       [1, 1, 1, 1, 5]])"
      ]
     },
     "execution_count": 87,
     "metadata": {},
     "output_type": "execute_result"
    }
   ],
   "source": [
    "X_train[:5]"
   ]
  },
  {
   "cell_type": "code",
   "execution_count": 88,
   "metadata": {},
   "outputs": [
    {
     "data": {
      "text/plain": [
       "array([[10],\n",
       "       [14],\n",
       "       [18],\n",
       "       [22],\n",
       "       [26]])"
      ]
     },
     "execution_count": 88,
     "metadata": {},
     "output_type": "execute_result"
    }
   ],
   "source": [
    "y_train[:5]"
   ]
  },
  {
   "cell_type": "code",
   "execution_count": 89,
   "metadata": {},
   "outputs": [
    {
     "name": "stdout",
     "output_type": "stream",
     "text": [
      "Shape of the Data : \n",
      "======================\n",
      "\n",
      "\n",
      "Train Data :\n",
      "Shape of X_train : (707281, 5)\n",
      "Shape of y_train : (707281, 1)\n",
      "\n",
      "Test Data :\n",
      "Shape of X_test : (25, 5)\n",
      "Shape of y_test : (25, 1)\n"
     ]
    }
   ],
   "source": [
    "print(\"Shape of the Data : \\n======================\\n\")\n",
    "print(\"\\nTrain Data :\")\n",
    "print(\"Shape of X_train : %s\"%str(X_train.shape))\n",
    "print(\"Shape of y_train : %s\"%str(y_train.shape))\n",
    "\n",
    "print(\"\\nTest Data :\")\n",
    "print(\"Shape of X_test : %s\"%str(X_test.shape))\n",
    "print(\"Shape of y_test : %s\"%str(y_test.shape))"
   ]
  },
  {
   "cell_type": "code",
   "execution_count": 90,
   "metadata": {},
   "outputs": [],
   "source": [
    "def initialise_parameter(X):\n",
    "    parameter = np.zeros((X.shape[1],1))\n",
    "    return parameter"
   ]
  },
  {
   "cell_type": "code",
   "execution_count": 91,
   "metadata": {},
   "outputs": [],
   "source": [
    "def hypothesis(X,theta):\n",
    "    return np.dot(X,theta)"
   ]
  },
  {
   "cell_type": "code",
   "execution_count": 92,
   "metadata": {},
   "outputs": [],
   "source": [
    "def costfunction(X,y,theta):\n",
    "    m = X.shape[0]\n",
    "    return (1 / (2 * m)) * np.dot((hypothesis(X,theta)-y).T , (hypothesis(X,theta)-y))[0,0]"
   ]
  },
  {
   "cell_type": "code",
   "execution_count": 93,
   "metadata": {},
   "outputs": [],
   "source": [
    "def update_parameter(X,y,theta,alpha):\n",
    "    m = X.shape[0]\n",
    "    theta = theta - alpha * (1 / m) * np.dot( (hypothesis(X,theta)-y).T , X).T\n",
    "    return theta"
   ]
  },
  {
   "cell_type": "code",
   "execution_count": 107,
   "metadata": {},
   "outputs": [],
   "source": [
    "def modelLL(X,y,X_test,y_test,alpha=0.0001,iteration=1000,print_details=False):\n",
    "    theta = initialise_parameter(X)\n",
    "    cost = []\n",
    "    if print_details:\n",
    "        print(\"Loss for training in %d iteration  is : %s\"%(0,str(costfunction(X_test,y_test,theta))))\n",
    "    for _ in range(iteration):\n",
    "        theta = update_parameter(X,y,theta,alpha)\n",
    "        cost.append(costfunction(X,y,theta))\n",
    "        if print_details and _%100==0:\n",
    "            print(\"Loss for training in %d iteration  is : %s\"%(_,str(costfunction(X_test,y_test,theta))))\n",
    "    return theta,cost"
   ]
  },
  {
   "cell_type": "code",
   "execution_count": 109,
   "metadata": {},
   "outputs": [
    {
     "name": "stdout",
     "output_type": "stream",
     "text": [
      "Loss for training in 0 iteration  is : 663850.0\n",
      "Loss for training in 0 iteration  is : 541761.0850124999\n",
      "Loss for training in 100 iteration  is : 5.9073768086039555\n",
      "Loss for training in 200 iteration  is : 2.3283102187681384\n",
      "Loss for training in 300 iteration  is : 1.190208654944103\n",
      "Loss for training in 400 iteration  is : 0.7663225978012065\n",
      "Loss for training in 500 iteration  is : 0.5904806250024202\n",
      "Loss for training in 600 iteration  is : 0.5115353295951012\n",
      "Loss for training in 700 iteration  is : 0.47420265538981327\n",
      "Loss for training in 800 iteration  is : 0.4559102056165292\n",
      "Loss for training in 900 iteration  is : 0.44666076289333606\n",
      "Loss for training in 1000 iteration  is : 0.4417942739668174\n",
      "Loss for training in 1100 iteration  is : 0.43907480639075375\n",
      "Loss for training in 1200 iteration  is : 0.4374129367932554\n",
      "Loss for training in 1300 iteration  is : 0.436273656758881\n",
      "Loss for training in 1400 iteration  is : 0.43539317902966174\n",
      "Loss for training in 1500 iteration  is : 0.43464118309793875\n",
      "Loss for training in 1600 iteration  is : 0.4339532217008825\n",
      "Loss for training in 1700 iteration  is : 0.4332974077705202\n",
      "Loss for training in 1800 iteration  is : 0.43265796010897695\n",
      "Loss for training in 1900 iteration  is : 0.43202706718288797\n"
     ]
    }
   ],
   "source": [
    "theta,cost = modelLL(X_train,y_train,X_test,y_test,iteration=2000,print_details=True)"
   ]
  },
  {
   "cell_type": "code",
   "execution_count": 49,
   "metadata": {},
   "outputs": [
    {
     "data": {
      "text/plain": [
       "array([[0.83265298],\n",
       "       [1.25103554],\n",
       "       [2.08368852],\n",
       "       [2.91634149],\n",
       "       [3.74899447]])"
      ]
     },
     "execution_count": 49,
     "metadata": {},
     "output_type": "execute_result"
    }
   ],
   "source": [
    "theta#before"
   ]
  },
  {
   "cell_type": "code",
   "execution_count": 110,
   "metadata": {},
   "outputs": [
    {
     "data": {
      "text/plain": [
       "array([[0.15229103],\n",
       "       [0.997646  ],\n",
       "       [1.9976452 ],\n",
       "       [2.99764441],\n",
       "       [3.99764362]])"
      ]
     },
     "execution_count": 110,
     "metadata": {},
     "output_type": "execute_result"
    }
   ],
   "source": [
    "theta"
   ]
  },
  {
   "cell_type": "code",
   "execution_count": 52,
   "metadata": {},
   "outputs": [
    {
     "data": {
      "text/plain": [
       "<matplotlib.legend.Legend at 0x1c740ef2e48>"
      ]
     },
     "execution_count": 52,
     "metadata": {},
     "output_type": "execute_result"
    },
    {
     "data": {
      "image/png": "[encoded data removed]",
      "text/plain": [
       "<Figure size 1296x648 with 1 Axes>"
      ]
     },
     "metadata": {},
     "output_type": "display_data"
    }
   ],
   "source": [
    "sns.set_style(\"darkgrid\")\n",
    "plt.figure(figsize=(18,9))\n",
    "plt.plot(cost[:50],'o--',label=\"Loss Function\")\n",
    "plt.legend()"
   ]
  },
  {
   "cell_type": "code",
   "execution_count": 53,
   "metadata": {},
   "outputs": [
    {
     "data": {
      "text/plain": [
       "array([[1030.00206952],\n",
       "       [1040.00212954],\n",
       "       [1050.00218956],\n",
       "       [1060.00224957],\n",
       "       [1070.00230959]])"
      ]
     },
     "execution_count": 53,
     "metadata": {},
     "output_type": "execute_result"
    }
   ],
   "source": [
    "hypothesis(X_test[:5],theta)"
   ]
  },
  {
   "cell_type": "code",
   "execution_count": 55,
   "metadata": {},
   "outputs": [
    {
     "data": {
      "text/plain": [
       "array([[1030],\n",
       "       [1040],\n",
       "       [1050],\n",
       "       [1060],\n",
       "       [1070]])"
      ]
     },
     "execution_count": 55,
     "metadata": {},
     "output_type": "execute_result"
    }
   ],
   "source": [
    "y_test[:5]"
   ]
  },
  {
   "cell_type": "code",
   "execution_count": 56,
   "metadata": {},
   "outputs": [],
   "source": [
    "def create_output(X):\n",
    "    return np.dot(X,np.array([[1],[2],[3],[4]]))"
   ]
  },
  {
   "cell_type": "code",
   "execution_count": 111,
   "metadata": {},
   "outputs": [
    {
     "name": "stdout",
     "output_type": "stream",
     "text": [
      "[[ 153]\n",
      " [8048]]\n"
     ]
    }
   ],
   "source": [
    "a = np.array([[5,9,10,25],[1000,15,1002,1003]])\n",
    "a_out = create_output(a)\n",
    "a = np.insert(a,0,1,axis=1)\n",
    "print(a_out)"
   ]
  },
  {
   "cell_type": "code",
   "execution_count": 112,
   "metadata": {},
   "outputs": [
    {
     "data": {
      "text/plain": [
       "array([[ 153.03686253],\n",
       "       [8041.03922003]])"
      ]
     },
     "execution_count": 112,
     "metadata": {},
     "output_type": "execute_result"
    }
   ],
   "source": [
    "hypothesis(a,theta)"
   ]
  },
  {
   "cell_type": "code",
   "execution_count": 113,
   "metadata": {},
   "outputs": [],
   "source": [
    "#model takes 7.6sec to train"
   ]
  }
 ],
 "metadata": {
  "kernelspec": {
   "display_name": "Python 3",
   "language": "python",
   "name": "python3"
  },
  "language_info": {
   "codemirror_mode": {
    "name": "ipython",
    "version": 3
   },
   "file_extension": ".py",
   "mimetype": "text/x-python",
   "name": "python",
   "nbconvert_exporter": "python",
   "pygments_lexer": "ipython3",
   "version": "3.7.3"
  }
 },
 "nbformat": 4,
 "nbformat_minor": 2
}
