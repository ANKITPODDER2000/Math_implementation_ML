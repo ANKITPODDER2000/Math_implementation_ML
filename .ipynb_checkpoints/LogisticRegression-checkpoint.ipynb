{
 "cells": [
  {
   "cell_type": "code",
   "execution_count": 15,
   "metadata": {},
   "outputs": [],
   "source": [
    "import numpy as np\n",
    "import pandas as pd\n",
    "import matplotlib.pyplot as plt\n",
    "import seaborn as sns\n",
    "sns.set_style('darkgrid')\n",
    "%matplotlib inline"
   ]
  },
  {
   "cell_type": "code",
   "execution_count": 3,
   "metadata": {},
   "outputs": [],
   "source": [
    "#needed function for logistic Regression\n",
    "def sigmoid(z):\n",
    "    return 1 / (1 + np.exp(-1 * z))"
   ]
  },
  {
   "cell_type": "code",
   "execution_count": 20,
   "metadata": {},
   "outputs": [
    {
     "data": {
      "image/png": "[encoded data removed]",
      "text/plain": [
       "<Figure size 720x432 with 1 Axes>"
      ]
     },
     "metadata": {
      "needs_background": "light"
     },
     "output_type": "display_data"
    }
   ],
   "source": [
    "plt.figure(figsize=(10,6))\n",
    "a = np.linspace(-10,10,num=200000)\n",
    "plt.plot([0,0],[0,1])\n",
    "plt.plot(a,sigmoid(a),label=\"Sigmoid\")\n",
    "plt.legend()\n",
    "plt.grid(True)"
   ]
  },
  {
   "cell_type": "code",
   "execution_count": 44,
   "metadata": {},
   "outputs": [],
   "source": [
    "X = np.arange(1,21,1)\n",
    "y = np.where(X<=10,0,1)"
   ]
  },
  {
   "cell_type": "code",
   "execution_count": 45,
   "metadata": {},
   "outputs": [
    {
     "data": {
      "text/plain": [
       "<matplotlib.collections.PathCollection at 0x1c1dd059358>"
      ]
     },
     "execution_count": 45,
     "metadata": {},
     "output_type": "execute_result"
    },
    {
     "data": {
      "image/png": "[encoded data removed]",
      "text/plain": [
       "<Figure size 432x288 with 1 Axes>"
      ]
     },
     "metadata": {
      "needs_background": "light"
     },
     "output_type": "display_data"
    }
   ],
   "source": [
    "plt.scatter(X,y,c=y,cmap='rainbow')"
   ]
  },
  {
   "cell_type": "code",
   "execution_count": 28,
   "metadata": {},
   "outputs": [],
   "source": [
    "def hypothesis(X,theta):\n",
    "    return sigmoid(np.dot(X,theta))"
   ]
  },
  {
   "cell_type": "code",
   "execution_count": 56,
   "metadata": {},
   "outputs": [],
   "source": [
    "def costfunction(X,y,theta):\n",
    "    m = X.shape[1]\n",
    "    cost = (-1/m) * ( np.sum(y*np.log(hypothesis(X,theta))) + np.sum((1-y) * np.log(1-hypothesis(X,theta))))\n",
    "    return cost"
   ]
  },
  {
   "cell_type": "code",
   "execution_count": 37,
   "metadata": {},
   "outputs": [],
   "source": [
    "def update_parameter(X,y,theta,alpha=0.005):\n",
    "    m = X.shape[0]\n",
    "    theta -= alpha * (1 / m) * np.dot((hypothesis(X,theta)-y).T , X).T\n",
    "    return theta"
   ]
  },
  {
   "cell_type": "code",
   "execution_count": 32,
   "metadata": {},
   "outputs": [],
   "source": [
    "def reshapeData(X):\n",
    "    X = np.insert(X,0,1,axis=1)\n",
    "    return X"
   ]
  },
  {
   "cell_type": "code",
   "execution_count": 36,
   "metadata": {},
   "outputs": [],
   "source": [
    "def initialParams(X):\n",
    "    theta = np.zeros((X.shape[1],1))\n",
    "    return theta"
   ]
  },
  {
   "cell_type": "code",
   "execution_count": 58,
   "metadata": {},
   "outputs": [],
   "source": [
    "def LogisticModel(X,y,alpha=0.0005,iteration=2000,print_details=False):\n",
    "    X = reshapeData(X)\n",
    "    theta = initialParams(X)\n",
    "    \n",
    "    if print_details:\n",
    "        print(\"Loss on %d iteration is : %.3f\"%(0,costfunction(X,y,theta)))\n",
    "        \n",
    "    for it in range(iteration):\n",
    "        theta = update_parameter(X,y,theta,alpha=alpha)\n",
    "        if print_details and it%100==0:\n",
    "            print(\"Loss on %d iteration is : %.3f\"%(it,costfunction(X,y,theta)))\n",
    "    return theta"
   ]
  },
  {
   "cell_type": "code",
   "execution_count": 51,
   "metadata": {},
   "outputs": [
    {
     "name": "stdout",
     "output_type": "stream",
     "text": [
      "(1, 20)\n",
      "(1, 20)\n"
     ]
    }
   ],
   "source": [
    "X = X[np.newaxis]\n",
    "y = y[np.newaxis]\n",
    "print(X.shape)\n",
    "print(y.shape)"
   ]
  },
  {
   "cell_type": "code",
   "execution_count": 52,
   "metadata": {},
   "outputs": [
    {
     "name": "stdout",
     "output_type": "stream",
     "text": [
      "(20, 1)\n",
      "(20, 1)\n"
     ]
    }
   ],
   "source": [
    "X = X.T\n",
    "y = y.T\n",
    "\n",
    "print(X.shape)\n",
    "print(y.shape)"
   ]
  },
  {
   "cell_type": "code",
   "execution_count": 64,
   "metadata": {},
   "outputs": [],
   "source": [
    "theta = LogisticModel(X,y,iteration=500001,print_details=False)"
   ]
  },
  {
   "cell_type": "code",
   "execution_count": 103,
   "metadata": {},
   "outputs": [
    {
     "data": {
      "text/plain": [
       "[<matplotlib.lines.Line2D at 0x1c1dd539f28>]"
      ]
     },
     "execution_count": 103,
     "metadata": {},
     "output_type": "execute_result"
    },
    {
     "data": {
      "image/png": "[encoded data removed]",
      "text/plain": [
       "<Figure size 432x288 with 1 Axes>"
      ]
     },
     "metadata": {
      "needs_background": "light"
     },
     "output_type": "display_data"
    }
   ],
   "source": [
    "X_copy = np.arange(1,21,1)\n",
    "y_copy = np.where(X<=10,0,1)\n",
    "\n",
    "plt.scatter(X_copy,y_copy,c=y_copy,cmap='rainbow')\n",
    "plt.plot(np.arange(10,12.4), (np.arange(10,12.4)*theta[1,0]) + theta[0,0])"
   ]
  },
  {
   "cell_type": "code",
   "execution_count": 93,
   "metadata": {},
   "outputs": [],
   "source": [
    "def predict(X,theta):\n",
    "    return np.where(hypothesis(np.insert(X,0,1,axis=1),theta) < 0.5 , 0, 1)"
   ]
  },
  {
   "cell_type": "code",
   "execution_count": 96,
   "metadata": {},
   "outputs": [
    {
     "data": {
      "text/plain": [
       "array([[0],\n",
       "       [0],\n",
       "       [0],\n",
       "       [1],\n",
       "       [1],\n",
       "       [1],\n",
       "       [1]])"
      ]
     },
     "execution_count": 96,
     "metadata": {},
     "output_type": "execute_result"
    }
   ],
   "source": [
    "X_pred = [[5],[9],[10],[11],[12],[13],[50]]\n",
    "pred = predict(X_pred,theta)\n",
    "print(\"condition is : if num <=10 return 0 else return 1\")\n",
    "for (i,j) in zip(X_pred,pred):\n",
    "    print(\"%d\\t\\t%d\"%(i[0]))"
   ]
  },
  {
   "cell_type": "code",
   "execution_count": null,
   "metadata": {},
   "outputs": [],
   "source": []
  }
 ],
 "metadata": {
  "kernelspec": {
   "display_name": "Python 3",
   "language": "python",
   "name": "python3"
  },
  "language_info": {
   "codemirror_mode": {
    "name": "ipython",
    "version": 3
   },
   "file_extension": ".py",
   "mimetype": "text/x-python",
   "name": "python",
   "nbconvert_exporter": "python",
   "pygments_lexer": "ipython3",
   "version": "3.7.3"
  }
 },
 "nbformat": 4,
 "nbformat_minor": 2
}
