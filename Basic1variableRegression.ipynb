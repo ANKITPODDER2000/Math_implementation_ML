{
 "cells": [
  {
   "cell_type": "code",
   "execution_count": 1,
   "metadata": {},
   "outputs": [],
   "source": [
    "import numpy as np\n",
    "import matplotlib.pyplot as plt\n",
    "import seaborn as sns\n",
    "%matplotlib inline"
   ]
  },
  {
   "cell_type": "code",
   "execution_count": 4,
   "metadata": {},
   "outputs": [],
   "source": [
    "X_train = np.linspace(1,100,num=100,dtype=np.int32)\n",
    "y_train = X_train * 3"
   ]
  },
  {
   "cell_type": "code",
   "execution_count": 9,
   "metadata": {},
   "outputs": [],
   "source": [
    "X_train = X_train.reshape(X_train.shape[0],1)"
   ]
  },
  {
   "cell_type": "code",
   "execution_count": 10,
   "metadata": {},
   "outputs": [
    {
     "name": "stdout",
     "output_type": "stream",
     "text": [
      "Shape of Train Details :\n",
      "==========================\n",
      "Shape of X_train (100, 1)\n",
      "Shape of y_train (100,)\n"
     ]
    }
   ],
   "source": [
    "print(\"Shape of Train Details :\\n==========================\")\n",
    "print(\"Shape of X_train %s\"%str(X_train.shape))\n",
    "print(\"Shape of y_train %s\"%str(y_train.shape))"
   ]
  },
  {
   "cell_type": "code",
   "execution_count": 48,
   "metadata": {},
   "outputs": [],
   "source": [
    "X_train = np.insert(X_train,0,0,axis=1)"
   ]
  },
  {
   "cell_type": "code",
   "execution_count": 11,
   "metadata": {},
   "outputs": [],
   "source": [
    "def hypothesis(X,theta):\n",
    "    return np.dot(X,theta)"
   ]
  },
  {
   "cell_type": "code",
   "execution_count": 129,
   "metadata": {},
   "outputs": [],
   "source": [
    "def costfunction(X,y,theta):\n",
    "    m = X.shape[0]\n",
    "    \n",
    "    return (1/(2*m)) * np.dot((hypothesis(X,theta) - y).T , (hypothesis(X,theta) - y))"
   ]
  },
  {
   "cell_type": "code",
   "execution_count": 109,
   "metadata": {},
   "outputs": [],
   "source": [
    "#a = costfunction(X_train,y_train.reshape(y_train.shape[0],1),np.array([[0],[3]]))"
   ]
  },
  {
   "cell_type": "code",
   "execution_count": 110,
   "metadata": {},
   "outputs": [],
   "source": [
    "#a.shape"
   ]
  },
  {
   "cell_type": "code",
   "execution_count": 101,
   "metadata": {},
   "outputs": [],
   "source": [
    "def update_parameter(X,y,theta,alpha=0.005,print_details=False):\n",
    "    m = X.shape[0]\n",
    "    theta -= alpha * (1 / m) * np.dot((hypothesis(X,theta)-y).T , X).T\n",
    "    return theta"
   ]
  },
  {
   "cell_type": "code",
   "execution_count": 130,
   "metadata": {},
   "outputs": [],
   "source": [
    "def LinearModel(X,y,alpha=0.0005,iteration=1000,print_details=False):\n",
    "    theta = np.zeros((X.shape[1],1))\n",
    "    costFunc = []\n",
    "    for _ in range(iteration):\n",
    "        costFunc.append((costfunction(X,y,theta)))\n",
    "        theta = update_parameter(X,y,theta,alpha=alpha)\n",
    "    costFunc.append(costfunction(X,y,theta)[0][0])\n",
    "    return theta,costFunc"
   ]
  },
  {
   "cell_type": "code",
   "execution_count": 143,
   "metadata": {},
   "outputs": [],
   "source": [
    "theta,cost = LinearModel(X_train,y_train.reshape(100,1),iteration=70)"
   ]
  },
  {
   "cell_type": "code",
   "execution_count": 148,
   "metadata": {},
   "outputs": [
    {
     "data": {
      "text/plain": [
       "<matplotlib.legend.Legend at 0x20a52753a58>"
      ]
     },
     "execution_count": 148,
     "metadata": {},
     "output_type": "execute_result"
    },
    {
     "data": {
      "image/png": "[encoded data removed]",
      "text/plain": [
       "<Figure size 1296x648 with 1 Axes>"
      ]
     },
     "metadata": {},
     "output_type": "display_data"
    }
   ],
   "source": [
    "sns.set_style(\"darkgrid\")\n",
    "plt.figure(figsize=(18,9))\n",
    "plt.plot(cost,'o--',label=\"Loss Function\")\n",
    "plt.legend()"
   ]
  },
  {
   "cell_type": "code",
   "execution_count": 161,
   "metadata": {},
   "outputs": [],
   "source": [
    "def MAE(X,y,theta):\n",
    "    print(\"Value of theta is : \\n%s\"%str(theta))\n",
    "    hypo = hypothesis(X,theta)\n",
    "    return np.mean(np.abs(hypo-y))"
   ]
  },
  {
   "cell_type": "code",
   "execution_count": 169,
   "metadata": {},
   "outputs": [],
   "source": [
    "X_test = np.linspace(300,400,num=150)\n",
    "X_test = X_test.reshape(X_test.shape[0],1)\n",
    "y_test = (X_test * 3)\n",
    "y_test = y_test.reshape(y_test.shape[0],1)\n",
    "\n",
    "X_test = np.insert(X_test,0,0,axis=1)"
   ]
  },
  {
   "cell_type": "code",
   "execution_count": 170,
   "metadata": {},
   "outputs": [
    {
     "name": "stdout",
     "output_type": "stream",
     "text": [
      "Shape of Test Details :\n",
      "==========================\n",
      "Shape of X_test (150, 2)\n",
      "Shape of y_test (150, 1)\n"
     ]
    }
   ],
   "source": [
    "print(\"Shape of Test Details :\\n==========================\")\n",
    "print(\"Shape of X_test %s\"%str(X_test.shape))\n",
    "print(\"Shape of y_test %s\"%str(y_test.shape))"
   ]
  },
  {
   "cell_type": "code",
   "execution_count": 171,
   "metadata": {},
   "outputs": [
    {
     "name": "stdout",
     "output_type": "stream",
     "text": [
      "Value of theta is : \n",
      "[[0.]\n",
      " [3.]]\n",
      "\n",
      "Mean absolute error is : 6.571007512926978e-09\n",
      "RMSE is : 2.1737901187363648e-17\n"
     ]
    }
   ],
   "source": [
    "mae = MAE(X_test,y_test,theta)\n",
    "print(\"\\nMean absolute error is : %s\"%str(mae))\n",
    "print(\"RMSE is : %s\"%(str(costfunction(X_test,y_test,theta)[0,0])))"
   ]
  }
 ],
 "metadata": {
  "kernelspec": {
   "display_name": "Python 3",
   "language": "python",
   "name": "python3"
  },
  "language_info": {
   "codemirror_mode": {
    "name": "ipython",
    "version": 3
   },
   "file_extension": ".py",
   "mimetype": "text/x-python",
   "name": "python",
   "nbconvert_exporter": "python",
   "pygments_lexer": "ipython3",
   "version": "3.7.3"
  }
 },
 "nbformat": 4,
 "nbformat_minor": 2
}
